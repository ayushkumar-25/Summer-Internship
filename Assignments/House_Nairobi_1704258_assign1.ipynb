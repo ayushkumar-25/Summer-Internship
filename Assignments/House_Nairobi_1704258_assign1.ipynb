{
 "cells": [
  {
   "cell_type": "markdown",
   "metadata": {},
   "source": [
    "# Question - 2"
   ]
  },
  {
   "cell_type": "code",
   "execution_count": 1,
   "metadata": {},
   "outputs": [
    {
     "name": "stdout",
     "output_type": "stream",
     "text": [
      "(1, 2, 3, 4, 6, 7, 8, 9)\n",
      "<class 'tuple'>\n"
     ]
    }
   ],
   "source": [
    "t1 = (1,2,3,4)\n",
    "t2 = (6,7,8,9)\n",
    "t3 = t1+t2\n",
    "print(t3)\n",
    "print(type(t3))"
   ]
  },
  {
   "cell_type": "markdown",
   "metadata": {},
   "source": [
    "# Question - 3"
   ]
  },
  {
   "cell_type": "code",
   "execution_count": 3,
   "metadata": {},
   "outputs": [
    {
     "name": "stdout",
     "output_type": "stream",
     "text": [
      "Yes, tuple-2 is subset of tuple-1.\n"
     ]
    }
   ],
   "source": [
    "t1 = (1, 2, 3, 4, 5, 6, 7, 8, 9)\n",
    "t2 = (3, 4, 5)\n",
    "a = (set(t2).issubset(t1))\n",
    "if (a == True):\n",
    "    print(\"Yes, tuple-2 is subset of tuple-1.\")\n",
    "else:\n",
    "    print(\"No, tuple-2 is not a subset of tuple-1.\")"
   ]
  },
  {
   "cell_type": "code",
   "execution_count": 4,
   "metadata": {},
   "outputs": [
    {
     "name": "stdout",
     "output_type": "stream",
     "text": [
      "No, tuple-2 is not a subset of tuple-1.\n"
     ]
    }
   ],
   "source": [
    "t1 = (1, 2, 3, 4, 5, 6, 7, 8, 9)\n",
    "t2 = (3, 4, 5, 11)\n",
    "a = (set(t2).issubset(t1))\n",
    "if (a == True):\n",
    "    print(\"Yes, tuple-2 is subset of tuple-1.\")\n",
    "else:\n",
    "    print(\"No, tuple-2 is not a subset of tuple-1.\")"
   ]
  },
  {
   "cell_type": "markdown",
   "metadata": {},
   "source": [
    "# Question - 4"
   ]
  },
  {
   "cell_type": "code",
   "execution_count": 5,
   "metadata": {},
   "outputs": [
    {
     "name": "stdout",
     "output_type": "stream",
     "text": [
      "Enter a string to check whether it is binary: 1010101010\n",
      "Yes, its a binary string!\n"
     ]
    }
   ],
   "source": [
    "n = str(input(\"Enter a string to check whether it is binary: \"))\n",
    "if any(i in \"abcdefghijklmnopqrstuvwxyzABCDEFGHIJKLMNOPQRSTUVWXYZ23456789!@#$%^&*()_+-=\" for i in n):\n",
    "    print(\"Sorry! Not a binary string.\")\n",
    "else:\n",
    "    print(\"Yes, its a binary string!\")"
   ]
  },
  {
   "cell_type": "code",
   "execution_count": 6,
   "metadata": {},
   "outputs": [
    {
     "name": "stdout",
     "output_type": "stream",
     "text": [
      "Enter a string to check whether it is binary: 1010ay101010\n",
      "Sorry! Not a binary string.\n"
     ]
    }
   ],
   "source": [
    "n = str(input(\"Enter a string to check whether it is binary: \"))\n",
    "if any(i in \"abcdefghijklmnopqrstuvwxyzABCDEFGHIJKLMNOPQRSTUVWXYZ23456789!@#$%^&*()_+-=\" for i in n):\n",
    "    print(\"Sorry! Not a binary string.\")\n",
    "else:\n",
    "    print(\"Yes, its a binary string!\")"
   ]
  },
  {
   "cell_type": "markdown",
   "metadata": {},
   "source": [
    "# Question - 6"
   ]
  },
  {
   "cell_type": "code",
   "execution_count": 7,
   "metadata": {},
   "outputs": [
    {
     "name": "stdout",
     "output_type": "stream",
     "text": [
      "[('Ayush', 78), ('Rohit', 87), ('Rajat', 93)]\n"
     ]
    }
   ],
   "source": [
    "Dict = {\"Ayush\": 78, \"Rohit\": 87, \"Rajat\": 93}\n",
    "List = [(key, value) for key, value in Dict.items()]\n",
    "print(List)"
   ]
  },
  {
   "cell_type": "markdown",
   "metadata": {},
   "source": [
    "# Rock-Paper-Scissor-Game"
   ]
  },
  {
   "cell_type": "code",
   "execution_count": null,
   "metadata": {},
   "outputs": [],
   "source": []
  },
  {
   "cell_type": "code",
   "execution_count": null,
   "metadata": {},
   "outputs": [],
   "source": []
  },
  {
   "cell_type": "code",
   "execution_count": 1,
   "metadata": {},
   "outputs": [
    {
     "name": "stdout",
     "output_type": "stream",
     "text": [
      "Rules-\n",
      "    Rock vs Paper -> Rock Wins\n",
      "    Rock vs Scissor -> Rock Wins\n",
      "    Scissor vs Paper -> Rock Wins\n",
      "\n",
      "\n",
      "Enter your choice {rock, paper, scissor}: rock\n",
      "Computer chose Paper.\n",
      "\n",
      "You Won.\n",
      "\n",
      "\n",
      "Want to play again? (Y/N): Y\n",
      "\n",
      "\n",
      "Enter your choice {rock, paper, scissor}: rock\n",
      "Computer chose Scissor.\n",
      "\n",
      "You Won.\n",
      "\n",
      "\n",
      "Want to play again? (Y/N): Y\n",
      "\n",
      "\n",
      "Enter your choice {rock, paper, scissor}: paper\n",
      "Computer chose Scissor.\n",
      "\n",
      "You Won.\n",
      "\n",
      "\n",
      "Want to play again? (Y/N): Y\n",
      "\n",
      "\n",
      "Enter your choice {rock, paper, scissor}: scissor\n",
      "Computer chose Paper.\n",
      "\n",
      "Computer Won.\n",
      "\n",
      "\n",
      "Want to play again? (Y/N): N\n"
     ]
    }
   ],
   "source": [
    "import random as r\n",
    "\n",
    "\n",
    "def game():\n",
    "    \"\"\"Rules-\n",
    "    Rock vs Paper -> Rock Wins\n",
    "    Rock vs Scissor -> Rock Wins\n",
    "    Scissor vs Paper -> Rock Wins\"\"\"\n",
    "\n",
    "    gamerInput = input(\"\\n\\nEnter your choice {rock, paper, scissor}: \")\n",
    "    if (gamerInput == \"rock\"):\n",
    "        n = 3\n",
    "    elif (gamerInput == \"paper\"):\n",
    "        n = 2\n",
    "    else:\n",
    "        n = 1\n",
    "\n",
    "    computer = r.randint(1, 3)\n",
    "    if (computer == 1):\n",
    "        print(\"Computer chose Scissor.\")\n",
    "    if (computer == 2):\n",
    "        print(\"Computer chose Paper.\")\n",
    "    if (computer == 3):\n",
    "        print(\"Computer chose Rock.\")\n",
    "\n",
    "    if (computer > n):\n",
    "        print(\"\\nComputer Won.\")\n",
    "    elif (computer == n):\n",
    "        print(\"\\nDraw Match.\")\n",
    "    else:\n",
    "        print(\"\\nYou Won.\")\n",
    "\n",
    "\n",
    "print(game.__doc__)\n",
    "game()\n",
    "for i in range(20):\n",
    "    replay = input(\"\\n\\nWant to play again? (Y/N): \")\n",
    "    if replay == \"Y\":\n",
    "        game()\n",
    "    else:\n",
    "        break"
   ]
  },
  {
   "cell_type": "code",
   "execution_count": null,
   "metadata": {},
   "outputs": [],
   "source": []
  }
 ],
 "metadata": {
  "kernelspec": {
   "display_name": "Python 3",
   "language": "python",
   "name": "python3"
  },
  "language_info": {
   "codemirror_mode": {
    "name": "ipython",
    "version": 3
   },
   "file_extension": ".py",
   "mimetype": "text/x-python",
   "name": "python",
   "nbconvert_exporter": "python",
   "pygments_lexer": "ipython3",
   "version": "3.7.6"
  }
 },
 "nbformat": 4,
 "nbformat_minor": 4
}
